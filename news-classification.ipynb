{
 "cells": [
  {
   "cell_type": "code",
   "execution_count": 2,
   "metadata": {},
   "outputs": [],
   "source": [
    "import os #载入os包\n",
    "import pandas as pd #载入pandas包并给pandas重新起一个别名为pd \n",
    "import numpy as np #载入numpy包并给numpy重新起一个别名为np\n",
    "import codecs  #载入codecs包\n",
    "import re #载入re包"
   ]
  },
  {
   "cell_type": "code",
   "execution_count": 3,
   "metadata": {},
   "outputs": [
    {
     "name": "stderr",
     "output_type": "stream",
     "text": [
      "/anaconda3/lib/python3.6/site-packages/ipykernel_launcher.py:10: FutureWarning: Method .as_matrix will be removed in a future version. Use .values instead.\n",
      "  # Remove the CWD from sys.path while we load stuff.\n"
     ]
    },
    {
     "data": {
      "text/plain": [
       "英媒称威廉王子圣诞节前将宣布订婚中新网11月8日电据香港《文汇报》报道，英媒称英国威廉王子和女友凯蒂将于圣诞节前宣布订婚，并于明年7月23日拉埋天窗，结束8年爱情长跑，并计划婚后生儿育女，组织幸福家庭。报道指，28岁的凯蒂预定与王室成员一起，在诺福克郡桑德灵厄姆堡欢度圣诞节，但她须先与威廉订婚才可获邀出席。消息人士透露，一切安排都是为两人明年的婚事铺路，而且“进展迅速”。两人决定在温莎堡乔治教堂低调成婚，这里也是王储查尔斯和卡米拉2005年结婚之处。据悉英女王也希望在政府紧缩开支时，避免婚事太铺张浪费。传媒本周拍摄到凯蒂父母在女王位于苏格兰的巴尔莫勒尔堡打猎，更获女王批准在附近一间王宫住宿，令威廉、凯蒂快将宣布婚事的传闻甚嚣尘上。另外，女王跟随威廉、哈里王子和其他年轻王室成员，正式加入大热社交网站facebook，成立王室官方页面，公布王室活动、照片、影片、新闻和发言。facebook用家对页面点击“赞”(like)，就可定期收到活动更新。中新网11月8日电据香港《文汇报》报道，英媒称英国威廉王子和女友凯蒂将于圣诞节前宣布订婚，并于明年7月23日拉埋天窗，结束8年爱情长跑，并计划婚后生儿育女，组织幸福家庭。报道指，28岁的凯蒂预定与王室成员一起，在诺福克郡桑德灵厄姆堡欢度圣诞节，但她须先与威廉订婚才可获邀出席。消息人士透露，一切安排都是为两人明年的婚事铺路，而且“进展迅速”。两人决定在温莎堡乔治教堂低调成婚，这里也是王储查尔斯和卡米拉2005年结婚之处。据悉英女王也希望在政府紧缩开支时，避免婚事太铺张浪费。传媒本周拍摄到凯蒂父母在女王位于苏格兰的巴尔莫勒尔堡打猎，更获女王批准在附近一间王宫住宿，令威廉、凯蒂快将宣布婚事的传闻甚嚣尘上。另外，女王跟随威廉、哈里王子和其他年轻王室成员，正式加入大热社交网站facebook，成立王室官方页面，公布王室活动、照片、影片、新闻和发言。facebook用家对页面点击“赞”(like)，就可定期收到活动更新。    object\n",
       "__label__affairs                                                                                                                                                                                                                                                                                                                                                                                                                                                                                                                                                                                                                                                                                                                                                                                                                                                        object\n",
       "dtype: object"
      ]
     },
     "execution_count": 3,
     "metadata": {},
     "output_type": "execute_result"
    }
   ],
   "source": [
    "poem = pd.read_csv('data_from_int_2.csv' , encoding = 'utf-8')\n",
    "#引用pd的read_csv函数，其中读取文件为data文件夹内的“poem.csv”，编码格式为‘utf-8’\n",
    "#并将读取到的数据以dataframe的格式存储在poem内\n",
    "poem = poem.sample(50000)\n",
    "poem = poem.dropna()\n",
    "poem.head()\n",
    "\n",
    "dy = poem.iloc[:,1]\n",
    "dy = dy.dropna()\n",
    "y = dy.as_matrix()\n",
    "\n",
    "y\n",
    "\n",
    "poem.dtypes\n"
   ]
  },
  {
   "cell_type": "code",
   "execution_count": null,
   "metadata": {},
   "outputs": [],
   "source": []
  },
  {
   "cell_type": "code",
   "execution_count": 4,
   "metadata": {},
   "outputs": [
    {
     "data": {
      "text/plain": [
       "'欧典地板推出5年发展计划2010年3月27日，在欧典地板的经销商大会上，欧典地板总裁闫培金先生宣布将全面实施“五年发展计划”。在未来的5年之内，欧典地板将全面加快建设国内网络销售渠道，在奠定国内的主导品牌地位之后，还将开始全球化战略，开拓欧洲、北美等国际市场。欧典地板总裁闫培金先生给这次会议定了个口号：“众望所归、再创辉煌”。自1999年开始创业，欧典在地板行业一直扮演着一个开创者的角色。中国林产工业协会秘书长石峰表示，欧典地板在技术开发、产品质量、售后服务等方面一直在行业里面处于领先地位，希望欧典能够在未来的发展当中本着为消费者服务的宗旨，取得开创性的发展。强化地板仍然是欧典目前的主销产品，是欧典技术优势比较明显、销售时间最长，系列最为丰富的产品。在环保方面，自1999年推出第一块“船甲板”系列地板，就达到了甲醛释放量每百克0.5mg的EO级标准；2004年欧典推出的真木纹系列也成为行业最为畅销的产品之一。本着技术开发为先导的思路，2009年，欧典推出的新“船甲板”、“真木纹”系列再次受到市场和消费者的欢迎。地板安装和售后服务历来是消费者最为担心和一些品牌遭到诟病的主要原因。欧典一直以来就十分重视售后服务，把服务增值作为品牌的核心竞争力之一。欧典推出的安装工人限量工作，提前24小时送货等举措，都保证了工人的施工质量和服务水平。“中国未来强化地板将迎来更广阔的市场空间。”闫培金先生表示，随着全球范围的环保经济盛行，以及大众化装修需求的持续增长，强化地板将成为最主流的产品，因此欧典将不断在产品研发和售后服务方面持续提升，把最环保、质量最好的强化地板提供给广大消费者。同时，还会积极与欧洲的地板生产企业积极合作，保证欧典地板的世界领先地位和品质。中国林林产工业协会秘书长石峰先生出席本次会议并讲话。我要评论'"
      ]
     },
     "execution_count": 4,
     "metadata": {},
     "output_type": "execute_result"
    }
   ],
   "source": [
    "poem.iloc[0,0]"
   ]
  },
  {
   "cell_type": "code",
   "execution_count": 5,
   "metadata": {},
   "outputs": [],
   "source": [
    "words_in_text = []  #创建words_in_text，数据类型为list\n",
    "for i in range(len(poem)): #对于poem内的每一条数据进行处理，i代表当前处理的下标\n",
    "    words_in_text.append(poem.iloc[i,0])\n",
    "# print(words_in_text)\n",
    "#将poem中每一条数据的第一位（即诗歌文本）用iloc函数提取为字符串格式，并储存在\n",
    "#list格式的words_in_text中，其中，每首诗是一个单独的字符串"
   ]
  },
  {
   "cell_type": "code",
   "execution_count": 6,
   "metadata": {},
   "outputs": [],
   "source": [
    "temp = \"\"\n",
    "for i in range(len(poem)):\n",
    "    temp = (str(words_in_text[i]))\n",
    "    temp = ''.join([j for j in temp if not j.isdigit()])\n",
    "    temp = re.sub(\"[\\u0060|\\u0021-\\u002c|\\u002e-\\u002f|\\u003a-\\u003f|\\u2200-\\u22ff|\\uFB00-\\uFFFD|\\u2E80-\\u33FF|\\\"|\\“]\", '', temp)\n",
    "    #上句代码删除了所有文本里的字符\n",
    "    words_in_text[i] = temp\n",
    "#     print(temp)\n",
    "    temp = \"\""
   ]
  },
  {
   "cell_type": "code",
   "execution_count": 7,
   "metadata": {},
   "outputs": [],
   "source": [
    "# for i in range(len(words_in_text)):\n",
    "#     print(i , words_in_text[i])\n",
    "# # len(poem)"
   ]
  },
  {
   "cell_type": "code",
   "execution_count": 8,
   "metadata": {},
   "outputs": [
    {
     "name": "stderr",
     "output_type": "stream",
     "text": [
      "Building prefix dict from the default dictionary ...\n",
      "Loading model from cache /var/folders/sj/d5v7n53n6tn56wb97p4884xc0000gn/T/jieba.cache\n",
      "Loading model cost 0.888 seconds.\n",
      "Prefix dict has been built succesfully.\n"
     ]
    }
   ],
   "source": [
    "import jieba\n",
    "wordlist = []\n",
    "for i in range(len(poem)):\n",
    "    seg_list = jieba.cut(words_in_text[i], cut_all = True)\n",
    "    wordlist.append(\"/\".join(j for j in seg_list if j != ' '))\n",
    "# print(wordlist)"
   ]
  },
  {
   "cell_type": "code",
   "execution_count": 9,
   "metadata": {
    "scrolled": true
   },
   "outputs": [],
   "source": [
    "words_in_text = [[i for i in ii.split('/')] for ii in wordlist]\n",
    "# print(words_in_text)"
   ]
  },
  {
   "cell_type": "code",
   "execution_count": 10,
   "metadata": {},
   "outputs": [],
   "source": [
    "# from collections import Counter\n",
    "# new_token_counter=Counter(token for sentences in words_in_text for token in sentences)\n",
    "# new_top100=new_token_counter.most_common()[:5]\n",
    "# for index, tok in enumerate(new_top100):\n",
    "#     print('{:>10}  freq: {:>7}'.format(tok[0], tok[1]))"
   ]
  },
  {
   "cell_type": "code",
   "execution_count": 11,
   "metadata": {},
   "outputs": [
    {
     "data": {
      "text/html": [
       "<div>\n",
       "<style scoped>\n",
       "    .dataframe tbody tr th:only-of-type {\n",
       "        vertical-align: middle;\n",
       "    }\n",
       "\n",
       "    .dataframe tbody tr th {\n",
       "        vertical-align: top;\n",
       "    }\n",
       "\n",
       "    .dataframe thead th {\n",
       "        text-align: right;\n",
       "    }\n",
       "</style>\n",
       "<table border=\"1\" class=\"dataframe\">\n",
       "  <thead>\n",
       "    <tr style=\"text-align: right;\">\n",
       "      <th></th>\n",
       "      <th>停用词</th>\n",
       "    </tr>\n",
       "  </thead>\n",
       "  <tbody>\n",
       "    <tr>\n",
       "      <th>0</th>\n",
       "      <td>啊</td>\n",
       "    </tr>\n",
       "    <tr>\n",
       "      <th>1</th>\n",
       "      <td>阿</td>\n",
       "    </tr>\n",
       "    <tr>\n",
       "      <th>2</th>\n",
       "      <td>哎</td>\n",
       "    </tr>\n",
       "    <tr>\n",
       "      <th>3</th>\n",
       "      <td>哎呀</td>\n",
       "    </tr>\n",
       "    <tr>\n",
       "      <th>4</th>\n",
       "      <td>哎哟</td>\n",
       "    </tr>\n",
       "  </tbody>\n",
       "</table>\n",
       "</div>"
      ],
      "text/plain": [
       "  停用词\n",
       "0   啊\n",
       "1   阿\n",
       "2   哎\n",
       "3  哎呀\n",
       "4  哎哟"
      ]
     },
     "execution_count": 11,
     "metadata": {},
     "output_type": "execute_result"
    }
   ],
   "source": [
    "stopwords=pd.read_csv('stopwords1.csv',encoding='utf-8',header=0)\n",
    "stop_words=[]\n",
    "\n",
    "for i in range(len(stopwords)):\n",
    "    stop_words.append(stopwords.iloc[i,0])\n",
    "stopwords.head()"
   ]
  },
  {
   "cell_type": "code",
   "execution_count": 12,
   "metadata": {},
   "outputs": [],
   "source": [
    "def clean_text(tokenized_list):\n",
    "    new_list = []\n",
    "    for doc in tokenized_list:\n",
    "        new_list.append([token for token in doc\n",
    "                         if token not in stop_words \n",
    "                         and token != ''])\n",
    "    return new_list\n",
    "cleaned = clean_text(words_in_text)\n",
    "# print(cleaned)"
   ]
  },
  {
   "cell_type": "code",
   "execution_count": 13,
   "metadata": {},
   "outputs": [
    {
     "name": "stdout",
     "output_type": "stream",
     "text": [
      "         月  freq:   62349\n",
      "        公司  freq:   56802\n",
      "        市场  freq:   55796\n",
      "        中国  freq:   52914\n",
      "         年  freq:   52008\n",
      "        基金  freq:   48872\n",
      "         日  freq:   43236\n",
      "         说  freq:   38784\n",
      "        投资  freq:   32720\n",
      "        游戏  freq:   31230\n",
      "        时间  freq:   31010\n",
      "        记者  freq:   27940\n",
      "        产品  freq:   27384\n",
      "        北京  freq:   26090\n",
      "         元  freq:   25432\n",
      "        企业  freq:   25013\n",
      "        美国  freq:   24699\n",
      "        经济  freq:   23116\n",
      "        发展  freq:   23108\n",
      "         高  freq:   22605\n"
     ]
    }
   ],
   "source": [
    "from collections import Counter\n",
    "new_token_counter=Counter(token for sentences in cleaned for token in sentences)\n",
    "new_top20=new_token_counter.most_common()[:20]\n",
    "for index, tok in enumerate(new_top20):\n",
    "    print('{:>10}  freq: {:>7}'.format(tok[0], tok[1]))"
   ]
  },
  {
   "cell_type": "code",
   "execution_count": 14,
   "metadata": {
    "scrolled": true
   },
   "outputs": [
    {
     "name": "stdout",
     "output_type": "stream",
     "text": [
      "CPU times: user 54min 50s, sys: 31.3 s, total: 55min 22s\n",
      "Wall time: 19min 50s\n"
     ]
    }
   ],
   "source": [
    "%%time\n",
    "n = 200\n",
    "wid = 7\n",
    "from nltk.corpus import gutenberg\n",
    "from gensim import models\n",
    "model = models.Word2Vec(cleaned,\n",
    "                        size = n,\n",
    "                        window = wid,\n",
    "                        min_count = 0,\n",
    "                        sg = 1,\n",
    "                        alpha = 0.15,\n",
    "                        iter=10,\n",
    "                        batch_words = 10000)"
   ]
  },
  {
   "cell_type": "code",
   "execution_count": 15,
   "metadata": {},
   "outputs": [],
   "source": [
    "import numpy as np\n",
    "np.seterr(divide='ignore', invalid='ignore')\n",
    "new_title_vectors= np.zeros((len(poem), n))\n",
    "for i in range(len(poem)):\n",
    "    if len(cleaned[i]) != 0:\n",
    "        for word in cleaned[i]:\n",
    "            new_title_vectors[i] += model.wv[word]\n",
    "        new_title_vectors[i] = new_title_vectors[i] / len(cleaned[i])\n",
    "# new_title_vectors[0],len(cleaned[0])"
   ]
  },
  {
   "cell_type": "code",
   "execution_count": 16,
   "metadata": {},
   "outputs": [],
   "source": [
    "final_feature = pd.DataFrame(new_title_vectors)\n",
    "train = pd.concat([final_feature], axis=1)"
   ]
  },
  {
   "cell_type": "code",
   "execution_count": 17,
   "metadata": {},
   "outputs": [],
   "source": [
    "# dy = pd.read_csv('data_from_int_1.csv',usecols=[1],header = 0)\n",
    "# # dy\n",
    "# y = dy.as_matrix()\n",
    "# y = y[:500]\n",
    "# print(y)\n"
   ]
  },
  {
   "cell_type": "code",
   "execution_count": 18,
   "metadata": {
    "scrolled": true
   },
   "outputs": [
    {
     "name": "stdout",
     "output_type": "stream",
     "text": [
      "(39987, 200) (9997, 200) (39987,) (9997,)\n",
      "Accuracy= 0.9042\n",
      "[[717   0   8   8  23   5   1   7  13   0  12   3  28]\n",
      " [  1 289   0   6   6   6   1   5   0   0   0   0   0]\n",
      " [  7   1 717   0   5   1   1   7   7   1   6   0  75]\n",
      " [ 14   5   2 789  13   2   0   2   5   1   2   4   2]\n",
      " [ 11   1   1   4 744  12   0   2   4   0   5   6   1]\n",
      " [  3   7   0   0  32 770   1  16   3   0   8   0   2]\n",
      " [  1   1   1   0  15   3 770   2   0   1  35   4   7]\n",
      " [  7   3   3   1  38  17   4 669  20   0  21   1  12]\n",
      " [  4   0   4   1   7   0   1  10 760   0   2   0  24]\n",
      " [  0   0   0   1   6   0   1   0   1 587   1  26   0]\n",
      " [ 15   1   7   6  29   3  25  16   5   0 679   2  44]\n",
      " [  4   0   1   2  12   1   3   0   2   5   2 790   2]\n",
      " [  6   0  28   1   5   0   0   1  13   0  16   0 758]]\n"
     ]
    }
   ],
   "source": [
    "accuracy={}\n",
    "precision = {}\n",
    "recall = {}\n",
    "f1 = {}\n",
    "from sklearn.model_selection import train_test_split\n",
    "import sklearn.metrics as metrics\n",
    "seed = 42\n",
    "x_train, x_test, y_train, y_test = train_test_split(train , y, test_size=0.2, random_state=seed)\n",
    "print(x_train.shape, x_test.shape, y_train.shape, y_test.shape)\n",
    "\n",
    "\n",
    "\n",
    "from sklearn.multiclass import OneVsRestClassifier\n",
    "from sklearn.svm import LinearSVC\n",
    "\n",
    "y_pred = OneVsRestClassifier(LinearSVC(random_state=0)).fit(x_train, y_train).predict(x_test)\n",
    "accuracy = metrics.accuracy_score(y_test.ravel(), y_pred.ravel())\n",
    "matrix = metrics.confusion_matrix(y_test,y_pred)\n",
    "\n",
    "print('Accuracy= {:.4f}'.format(accuracy))\n",
    "print(matrix)\n",
    "# print('Accuracy= {:.4f} | Precision= {:.4f} | Recall= {:.4f} | f1 score= {:.4f}'.format(accuracy,precision,recall,f1,))"
   ]
  },
  {
   "cell_type": "code",
   "execution_count": 19,
   "metadata": {},
   "outputs": [
    {
     "name": "stdout",
     "output_type": "stream",
     "text": [
      "Accuracy= 0.8987\n",
      "[[731   0   9  15  13   4   2  10   6   0  16   4  15]\n",
      " [  1 288   0   8   3   9   1   3   0   0   1   0   0]\n",
      " [  5   0 746   2   2   0   0  13  10   1  13   0  36]\n",
      " [ 12   4   1 803   4   2   4   4   3   0   3   0   1]\n",
      " [ 11   2   2   3 700  17   1  28   4   0  13  10   0]\n",
      " [  6   7   1   5  23 764   1  30   0   0   4   1   0]\n",
      " [  1   0   4   0   8   7 789   2   1   1  21   2   4]\n",
      " [  7   2   6   1  14  20   4 695  15   2  23   3   4]\n",
      " [ 10   0  15   2   4   0   1  13 754   0   1   0  13]\n",
      " [  3   0   0   1   2   0   0   0   0 596   3  18   0]\n",
      " [ 16   0  10   8  17   2  53  22   1   1 655   4  43]\n",
      " [  4   0   1   4   9   0   8   2   2   8   4 781   1]\n",
      " [ 13   0  68   2   5   0   2   6  24   0  26   0 682]]\n"
     ]
    }
   ],
   "source": [
    "from sklearn.multiclass import OneVsOneClassifier\n",
    "from sklearn.svm import LinearSVC\n",
    "\n",
    "y_pred = OneVsOneClassifier(LinearSVC(random_state=0)).fit(x_train, y_train).predict(x_test)\n",
    "accuracy = metrics.accuracy_score(y_test.ravel(), y_pred.ravel())\n",
    "matrix = metrics.confusion_matrix(y_test,y_pred)\n",
    "print('Accuracy= {:.4f}'.format(accuracy))\n",
    "print(matrix)"
   ]
  },
  {
   "cell_type": "code",
   "execution_count": null,
   "metadata": {},
   "outputs": [],
   "source": []
  },
  {
   "cell_type": "code",
   "execution_count": 20,
   "metadata": {},
   "outputs": [
    {
     "name": "stdout",
     "output_type": "stream",
     "text": [
      "Accuracy= 0.9111\n",
      "[[738   0   7  10  15   3   2   8   5   0  17   3  17]\n",
      " [  1 291   0   6   3   7   1   4   0   0   1   0   0]\n",
      " [  6   0 749   2   2   0   1   4   8   1   8   0  47]\n",
      " [ 14   3   3 808   4   1   1   4   2   0   1   0   0]\n",
      " [  9   2   2   3 730  18   1   9   3   0   7   7   0]\n",
      " [  3   6   0   3  21 776   0  25   0   0   6   1   1]\n",
      " [  1   0   4   0   9   4 774   3   0   1  38   2   4]\n",
      " [  9   2   3   0  18  14   3 700  15   3  23   2   4]\n",
      " [  9   0  10   1   5   0   1  15 751   0   1   0  20]\n",
      " [  1   0   0   0   2   0   0   1   0 602   2  15   0]\n",
      " [ 18   1  10   9  17   3  32  18   0   1 686   2  35]\n",
      " [  3   0   1   3  11   0   4   0   2   9   3 787   1]\n",
      " [ 12   0  47   0   6   0   0   5  14   0  28   0 716]]\n"
     ]
    }
   ],
   "source": [
    "from sklearn.linear_model import LogisticRegression\n",
    "\n",
    "from sklearn.multiclass import OneVsOneClassifier\n",
    "\n",
    "from sklearn import metrics\n",
    "\n",
    "y_pred = OneVsOneClassifier(LogisticRegression(random_state=0)).fit(x_train, y_train).predict(x_test)\n",
    "accuracy = metrics.accuracy_score(y_test.ravel(), y_pred.ravel())\n",
    "matrix = metrics.confusion_matrix(y_test,y_pred)\n",
    "print('Accuracy= {:.4f}'.format(accuracy))\n",
    "print(matrix)\n"
   ]
  },
  {
   "cell_type": "code",
   "execution_count": null,
   "metadata": {},
   "outputs": [],
   "source": []
  },
  {
   "cell_type": "code",
   "execution_count": 21,
   "metadata": {},
   "outputs": [
    {
     "name": "stdout",
     "output_type": "stream",
     "text": [
      "Accuracy= 0.8035\n",
      "[[680   0   7   8  81   4   1   7   0   4   7   3  23]\n",
      " [  0 264   0   1  40   4   0   1   0   4   0   0   0]\n",
      " [ 10   0 677   0  18   0   0   9   1   6  17   0  90]\n",
      " [ 18   6   4 692  89   3   1  12   4   2   6   0   4]\n",
      " [ 18   2   0   3 718  15   0  14   0   1   9   8   3]\n",
      " [  4   6   0   0  73 716   2  34   0   2   4   0   1]\n",
      " [  4   2   1   1  71   4 681   1   0   2  44   8  21]\n",
      " [  9   9   6   0  66  70   2 575   4  17  23   2  13]\n",
      " [ 13   0  11   3  46   1   0  54 599   6  10   0  70]\n",
      " [  9   0   0   1  25   0   0  18   0 509   5  55   1]\n",
      " [ 32   1   8   7  99   2  29  31   1   5 552   2  63]\n",
      " [  6   0   0   1  69   1   1   4   0  28   1 708   5]\n",
      " [ 30   0  64   0  10   0   0   6   3   9  43   1 662]]\n"
     ]
    }
   ],
   "source": [
    "from sklearn.naive_bayes import GaussianNB\n",
    "\n",
    "from sklearn.multiclass import OneVsOneClassifier\n",
    "\n",
    "from sklearn import metrics\n",
    "\n",
    "y_pred = OneVsOneClassifier(GaussianNB()).fit(x_train, y_train).predict(x_test)\n",
    "accuracy = metrics.accuracy_score(y_test.ravel(), y_pred.ravel())\n",
    "matrix = metrics.confusion_matrix(y_test,y_pred)\n",
    "print('Accuracy= {:.4f}'.format(accuracy))\n",
    "print(matrix)"
   ]
  },
  {
   "cell_type": "code",
   "execution_count": 22,
   "metadata": {},
   "outputs": [
    {
     "name": "stdout",
     "output_type": "stream",
     "text": [
      "Accuracy= 0.8419\n",
      "[[710   0   7  12  37   5   1   6   2   5  16   2  22]\n",
      " [  2 238   0   2  49   9   0   8   0   4   0   0   2]\n",
      " [  8   0 683   0  12   0   0   9   1  19  19   0  77]\n",
      " [ 25   1   2 737  46   3   0   7   3   6   6   0   5]\n",
      " [ 15   0   0   4 739  12   0   4   1   0   5   6   5]\n",
      " [  4   2   0   0  61 728   1  36   0   2   7   0   1]\n",
      " [  4   0   1   1  43   3 703   2   0   2  53  11  17]\n",
      " [ 10   0   2   0  56  28   2 641   5  18  20   2  12]\n",
      " [ 12   0   5   1  19   1   0  48 647  11   8   0  61]\n",
      " [  4   0   0   1  25   0   0   0   0 541   9  42   1]\n",
      " [ 22   0   6   8  68   0  15  32   1   8 607   1  64]\n",
      " [  7   0   0   2  41   1   0   2   1  24   4 738   4]\n",
      " [ 18   0  33   0   6   0   0   7   6  24  30   0 704]]\n"
     ]
    }
   ],
   "source": [
    "from sklearn.svm import NuSVC\n",
    "\n",
    "from sklearn.multiclass import OneVsOneClassifier\n",
    "\n",
    "from sklearn import metrics\n",
    "\n",
    "y_pred = OneVsOneClassifier(NuSVC()).fit(x_train, y_train).predict(x_test)\n",
    "accuracy = metrics.accuracy_score(y_test.ravel(), y_pred.ravel())\n",
    "matrix = metrics.confusion_matrix(y_test,y_pred)\n",
    "print('Accuracy= {:.4f}'.format(accuracy))\n",
    "print(matrix)"
   ]
  },
  {
   "cell_type": "code",
   "execution_count": 23,
   "metadata": {
    "scrolled": true
   },
   "outputs": [
    {
     "name": "stdout",
     "output_type": "stream",
     "text": [
      "Accuracy= 0.8794\n",
      "[[730   0  10  13  19   4   1   7   5   0  13   4  19]\n",
      " [  2 282   0   6   7   7   1   8   0   0   1   0   0]\n",
      " [  7   0 731   0   5   1   1  12   4   1  11   0  55]\n",
      " [ 26   4   3 776   8   3   1   8   4   0   4   0   4]\n",
      " [ 22   1   0   8 719  15   1   6   1   0  10   6   2]\n",
      " [  7   8   0   2  28 752   2  33   0   0   8   0   2]\n",
      " [  4   2   1   2  19   7 745   8   0   1  36   5  10]\n",
      " [ 13   3   2   1  26  28   2 670  12   1  27   2   9]\n",
      " [ 15   0   9   1   8   1   0  29 711   0   7   0  32]\n",
      " [  3   0   0   2   6   0   0   0   1 584   4  23   0]\n",
      " [ 29   0   9  10  27   2  27  34   3   0 638   3  50]\n",
      " [ 11   0   1   3  17   2   3   1   2  18   7 758   1]\n",
      " [ 19   0  61   1   4   0   0   8  12   0  28   0 695]]\n"
     ]
    }
   ],
   "source": [
    "from sklearn.ensemble import RandomForestClassifier\n",
    "from sklearn.multiclass import OneVsOneClassifier\n",
    "\n",
    "from sklearn import metrics\n",
    "\n",
    "y_pred = OneVsOneClassifier(RandomForestClassifier()).fit(x_train, y_train).predict(x_test)\n",
    "accuracy = metrics.accuracy_score(y_test.ravel(), y_pred.ravel())\n",
    "matrix = metrics.confusion_matrix(y_test,y_pred)\n",
    "print('Accuracy= {:.4f}'.format(accuracy))\n",
    "print(matrix)"
   ]
  },
  {
   "cell_type": "code",
   "execution_count": 24,
   "metadata": {},
   "outputs": [
    {
     "name": "stdout",
     "output_type": "stream",
     "text": [
      "Accuracy= 0.8972\n",
      "[[725   0   9  12  22   5   1   6   9   0  13   4  19]\n",
      " [  2 288   0   2   5   8   0   5   0   0   4   0   0]\n",
      " [  6   1 740   2   4   0   0   7   4   1   9   0  54]\n",
      " [ 19   5   4 788   9   3   0   2   4   0   5   0   2]\n",
      " [ 11   3   0   4 728  15   4   8   2   0   7   7   2]\n",
      " [  6   8   1   2  25 769   1  21   0   0   8   0   1]\n",
      " [  2   4   2   2  12   3 761   5   0   1  37   5   6]\n",
      " [ 10   1   1   1  23  22   5 686  18   0  23   2   4]\n",
      " [ 10   0   9   2   5   1   2  20 736   0   3   0  25]\n",
      " [  2   0   0   1   5   0   0   1   0 590   2  22   0]\n",
      " [ 18   0   8   8  24   3  25  25   2   0 673   4  42]\n",
      " [  6   0   1   2  13   1   1   0   2  14   5 778   1]\n",
      " [ 20   1  53   0   3   0   1   8  13   0  22   0 707]]\n"
     ]
    }
   ],
   "source": [
    "from sklearn.multiclass import OneVsOneClassifier\n",
    "\n",
    "from sklearn.ensemble import GradientBoostingClassifier\n",
    "from sklearn import metrics\n",
    "\n",
    "y_pred = OneVsOneClassifier(GradientBoostingClassifier(random_state=0)).fit(x_train, y_train).predict(x_test)\n",
    "accuracy = metrics.accuracy_score(y_test.ravel(), y_pred.ravel())\n",
    "matrix = metrics.confusion_matrix(y_test,y_pred)\n",
    "print('Accuracy= {:.4f}'.format(accuracy))\n",
    "print(matrix)"
   ]
  },
  {
   "cell_type": "code",
   "execution_count": 25,
   "metadata": {},
   "outputs": [
    {
     "name": "stdout",
     "output_type": "stream",
     "text": [
      "Accuracy= 0.9139\n",
      "[[734   0   8  13  16   3   1  10   5   0  17   3  15]\n",
      " [  1 297   0   3   2   5   0   4   0   0   2   0   0]\n",
      " [  8   1 736   0   3   0   1   6   4   1  12   0  56]\n",
      " [ 11   5   3 798   6   1   1   9   2   0   3   0   2]\n",
      " [  9   2   0   3 734  11   0   8   4   1  10   6   3]\n",
      " [  3  12   0   1  22 775   0  20   1   0   6   2   0]\n",
      " [  1   0   1   0   9   5 778   3   0   1  35   3   4]\n",
      " [  7   2   2   0  16  14   3 703  11   3  30   2   3]\n",
      " [ 10   0   8   1   5   0   1  18 741   0   6   0  23]\n",
      " [  0   0   0   0   2   0   0   0   0 599   3  19   0]\n",
      " [ 17   0   6   9  15   2  32  15   1   1 708   1  25]\n",
      " [  3   0   1   1   8   0   7   0   2   5   3 793   1]\n",
      " [ 14   0  25   0   3   0   3   2  11   0  30   0 740]]\n"
     ]
    }
   ],
   "source": [
    "\n",
    "## hidden_layer_sizes=(5, 2) hidden层2层,第一层5个神经元，第二层2个神经元)，2层隐藏层，也就有3层神经网络\n",
    "\n",
    "from sklearn.neural_network import MLPClassifier\n",
    "\n",
    "from sklearn.multiclass import OneVsOneClassifier\n",
    "\n",
    "from sklearn import metrics\n",
    "\n",
    "y_pred = OneVsOneClassifier(MLPClassifier(random_state=0)).fit(x_train, y_train).predict(x_test)\n",
    "accuracy = metrics.accuracy_score(y_test.ravel(), y_pred.ravel())\n",
    "matrix = metrics.confusion_matrix(y_test,y_pred)\n",
    "print('Accuracy= {:.4f}'.format(accuracy))\n",
    "print(matrix)"
   ]
  },
  {
   "cell_type": "code",
   "execution_count": 26,
   "metadata": {},
   "outputs": [],
   "source": [
    "# %%time\n",
    "# #run logistic regression on feature_text\n",
    "# accuracy={}\n",
    "# precision = {}\n",
    "# recall = {}\n",
    "# f1 = {}\n",
    "# from sklearn.model_selection import train_test_split\n",
    "# import sklearn.metrics as metrics\n",
    "# seed = 42\n",
    "# x_train, x_test, y_train, y_test = train_test_split(train , y, test_size=0.2, random_state=seed)\n",
    "# print(x_train.shape, x_test.shape, y_train.shape, y_test.shape)\n",
    "\n",
    "\n",
    "\n",
    "\n",
    "\n",
    "\n",
    "# from sklearn.linear_model import LogisticRegression\n",
    "\n",
    "# model = LogisticRegression()\n",
    "# model = model.fit(x_train, y_train)\n",
    "\n",
    "# y_pred = model.predict(x_test)\n",
    "\n",
    "# accuracy = metrics.accuracy_score(y_test.ravel(), y_pred.ravel())\n",
    "# precision = metrics.precision_score(y_test.ravel(), y_pred.ravel())\n",
    "# recall = metrics.recall_score(y_test.ravel(), y_pred.ravel())\n",
    "# f1 = metrics.f1_score(y_test.ravel(), y_pred.ravel())\n",
    "# print('Accuracy= {:.4f} | Precision= {:.4f} | Recall= {:.4f} | f1 score= {:.4f}'.format(accuracy,precision,recall,f1,))"
   ]
  },
  {
   "cell_type": "code",
   "execution_count": 27,
   "metadata": {},
   "outputs": [],
   "source": [
    "# poem = pd.read_csv('data_from_int_1.csv' , encoding = 'utf-8')\n",
    "# #引用pd的read_csv函数，其中读取文件为data文件夹内的“poem.csv”，编码格式为‘utf-8’\n",
    "# #并将读取到的数据以dataframe的格式存储在poem内\n",
    "# poem = poem.sample(500)\n",
    "# poem.head()\n",
    "\n",
    "\n"
   ]
  },
  {
   "cell_type": "code",
   "execution_count": 28,
   "metadata": {},
   "outputs": [
    {
     "name": "stdout",
     "output_type": "stream",
     "text": [
      "Accuracy= 0.9090\n",
      "[[736   0  11  11  13   5   3  10   6   0  12   2  16]\n",
      " [  1 291   0   8   4   5   1   4   0   0   0   0   0]\n",
      " [  6   1 746   1   3   1   1   7   5   1   7   0  49]\n",
      " [ 13   5   4 799   8   1   0   1   3   1   2   2   2]\n",
      " [ 13   1   1   6 734  16   0   3   3   0   7   6   1]\n",
      " [  4   9   0   1  22 781   1  17   0   0   6   0   1]\n",
      " [  1   2   1   0  10   3 778   2   0   1  34   3   5]\n",
      " [  7   3   3   3  31  18   5 682  14   0  21   1   8]\n",
      " [  5   0   7   2   5   0   1  14 756   0   2   0  21]\n",
      " [  0   0   0   1   4   0   0   1   0 594   1  22   0]\n",
      " [ 18   1  12  10  24   3  28  23   1   0 682   1  29]\n",
      " [  4   0   1   2  10   0   4   0   1   5   2 794   1]\n",
      " [ 13   0  53   1   4   0   1   4  15   0  23   0 714]]\n"
     ]
    }
   ],
   "source": [
    "from sklearn.linear_model import LogisticRegression\n",
    "\n",
    "from sklearn.multiclass import OneVsRestClassifier\n",
    "\n",
    "from sklearn import metrics\n",
    "\n",
    "y_pred = OneVsRestClassifier(LogisticRegression(random_state=0)).fit(x_train, y_train).predict(x_test)\n",
    "accuracy = metrics.accuracy_score(y_test.ravel(), y_pred.ravel())\n",
    "matrix = metrics.confusion_matrix(y_test,y_pred)\n",
    "print('Accuracy= {:.4f}'.format(accuracy))\n",
    "print(matrix)"
   ]
  },
  {
   "cell_type": "code",
   "execution_count": 30,
   "metadata": {},
   "outputs": [
    {
     "name": "stdout",
     "output_type": "stream",
     "text": [
      "Accuracy= 0.9190\n",
      "[[740   0   9   9  13   5   3   6   9   0  13   4  14]\n",
      " [  1 297   0   4   3   6   1   2   0   0   0   0   0]\n",
      " [  7   0 757   0   3   1   1   4   5   1   5   0  44]\n",
      " [ 13   3   4 808   5   2   0   3   2   0   1   0   0]\n",
      " [ 11   3   0   5 741  13   1   5   1   0   4   5   2]\n",
      " [  2   9   0   1  22 791   1  10   1   0   4   0   1]\n",
      " [  2   1   1   0  10   3 787   2   0   1  27   2   4]\n",
      " [  7   4   0   1  23  16   6 703  13   0  17   1   5]\n",
      " [  7   0   6   1   3   0   1  17 754   0   1   1  22]\n",
      " [  1   0   0   1   3   0   0   0   0 595   1  22   0]\n",
      " [ 17   1   8   8  24   1  31  22   1   1 686   2  30]\n",
      " [  3   0   1   1   8   1   1   0   2   6   3 797   1]\n",
      " [ 12   0  40   2   4   2   1   2  14   0  20   0 731]]\n"
     ]
    }
   ],
   "source": [
    "from sklearn.multiclass import OneVsRestClassifier\n",
    "from sklearn.svm import SVC\n",
    "\n",
    "y_pred = OneVsRestClassifier(SVC(kernel='rbf')).fit(x_train, y_train).predict(x_test)\n",
    "accuracy = metrics.accuracy_score(y_test.ravel(), y_pred.ravel())\n",
    "matrix = metrics.confusion_matrix(y_test,y_pred)\n",
    "\n",
    "print('Accuracy= {:.4f}'.format(accuracy))\n",
    "print(matrix)"
   ]
  },
  {
   "cell_type": "code",
   "execution_count": 31,
   "metadata": {},
   "outputs": [
    {
     "data": {
      "text/plain": [
       "['train_model_SVM.m']"
      ]
     },
     "execution_count": 31,
     "metadata": {},
     "output_type": "execute_result"
    }
   ],
   "source": [
    "from sklearn.externals import joblib\n",
    "\n",
    "joblib.dump(OneVsRestClassifier, \"train_model_SVM.m\")"
   ]
  },
  {
   "cell_type": "code",
   "execution_count": null,
   "metadata": {},
   "outputs": [],
   "source": []
  },
  {
   "cell_type": "code",
   "execution_count": null,
   "metadata": {},
   "outputs": [],
   "source": []
  },
  {
   "cell_type": "code",
   "execution_count": null,
   "metadata": {},
   "outputs": [],
   "source": []
  }
 ],
 "metadata": {
  "kernelspec": {
   "display_name": "Python 3",
   "language": "python",
   "name": "python3"
  },
  "language_info": {
   "codemirror_mode": {
    "name": "ipython",
    "version": 3
   },
   "file_extension": ".py",
   "mimetype": "text/x-python",
   "name": "python",
   "nbconvert_exporter": "python",
   "pygments_lexer": "ipython3",
   "version": "3.6.5"
  }
 },
 "nbformat": 4,
 "nbformat_minor": 2
}
